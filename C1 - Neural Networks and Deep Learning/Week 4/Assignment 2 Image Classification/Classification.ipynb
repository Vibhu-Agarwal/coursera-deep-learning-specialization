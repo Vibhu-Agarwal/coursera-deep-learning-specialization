{
  "nbformat": 4,
  "nbformat_minor": 0,
  "metadata": {
    "colab": {
      "provenance": []
    },
    "kernelspec": {
      "name": "python3",
      "display_name": "Python 3"
    },
    "language_info": {
      "name": "python"
    }
  },
  "cells": [
    {
      "cell_type": "code",
      "source": [
        "from google.colab import drive\n",
        "drive.mount('/content/gdrive')"
      ],
      "metadata": {
        "colab": {
          "base_uri": "https://localhost:8080/"
        },
        "id": "B67heFoiO8Ok",
        "outputId": "ece08a54-5807-43a2-87b5-a2f9698d4498"
      },
      "execution_count": null,
      "outputs": [
        {
          "output_type": "stream",
          "name": "stdout",
          "text": [
            "Mounted at /content/gdrive\n"
          ]
        }
      ]
    },
    {
      "cell_type": "code",
      "execution_count": null,
      "metadata": {
        "id": "bLZyn_faoVI7"
      },
      "outputs": [],
      "source": [
        "import torch\n",
        "import torch.nn.functional as F\n",
        "import matplotlib.pyplot as plt\n",
        "%matplotlib inline"
      ]
    },
    {
      "cell_type": "code",
      "metadata": {
        "colab": {
          "base_uri": "https://localhost:8080/"
        },
        "id": "87c72b9e",
        "outputId": "cde5f6a8-fe19-4084-c8fd-c07d143ed315"
      },
      "source": [
        "DATA_DIR = '/content/gdrive/My Drive/Colab Notebooks/dl-sp-c1w4/datasets'\n",
        "\n",
        "def load_data():\n",
        "    import h5py\n",
        "    import numpy as np\n",
        "    import os\n",
        "\n",
        "    train_path = f\"{DATA_DIR}/train_catvnoncat.h5\"\n",
        "    test_path = f\"{DATA_DIR}/test_catvnoncat.h5\"\n",
        "\n",
        "    train_dataset = h5py.File(train_path, \"r\")\n",
        "    train_set_x_orig = torch.from_numpy(np.array(train_dataset[\"train_set_x\"][:])).float()\n",
        "    train_set_x = train_set_x_orig.view(train_set_x_orig.shape[0], -1)\n",
        "    train_set_y = torch.from_numpy(np.array(train_dataset[\"train_set_y\"][:])).float()\n",
        "\n",
        "    test_dataset = h5py.File(test_path, \"r\")\n",
        "    test_set_x_orig = torch.from_numpy(np.array(test_dataset[\"test_set_x\"][:])).float()\n",
        "    test_set_x = test_set_x_orig.view(test_set_x_orig.shape[0], -1)\n",
        "    test_set_y = torch.from_numpy(np.array(test_dataset[\"test_set_y\"][:])).float()\n",
        "\n",
        "    classes = test_dataset[\"list_classes\"][:]\n",
        "    classes = [x.decode('utf-8') for x in classes]\n",
        "\n",
        "    return train_set_x, train_set_y, test_set_x, test_set_y, classes\n",
        "\n",
        "train_x_orig, train_y, test_x_orig, test_y, classes = load_data()\n",
        "train_x_orig.shape, train_y.shape, test_x_orig.shape, test_y.shape"
      ],
      "execution_count": null,
      "outputs": [
        {
          "output_type": "execute_result",
          "data": {
            "text/plain": [
              "(torch.Size([209, 12288]),\n",
              " torch.Size([209]),\n",
              " torch.Size([50, 12288]),\n",
              " torch.Size([50]))"
            ]
          },
          "metadata": {},
          "execution_count": 3
        }
      ]
    },
    {
      "cell_type": "code",
      "source": [
        "class Linear:\n",
        "\n",
        "  def __init__(self, fan_in, fan_out):\n",
        "    self.weight = torch.randn((fan_in, fan_out)) / fan_in**0.5\n",
        "    self.bias = torch.zeros(fan_out)\n",
        "\n",
        "  def __call__(self, x):\n",
        "    self.out = x @ self.weight + self.bias\n",
        "    if self.out.shape[1] == 1:\n",
        "      self.out = self.out.squeeze(1)\n",
        "    return self.out\n",
        "\n",
        "  def parameters(self):\n",
        "    return [self.weight, self.bias]\n",
        "\n",
        "\n",
        "class LeakyRelu:\n",
        "\n",
        "  def __init__(self):\n",
        "    self.relu = torch.nn.LeakyReLU()\n",
        "\n",
        "  def __call__(self, x):\n",
        "    self.out = self.relu(x)\n",
        "    return self.out\n",
        "\n",
        "  def parameters(self):\n",
        "    return []\n",
        "\n",
        "class BatchNorm1d:\n",
        "\n",
        "  def __init__(self, dim, eps=1e-5, momentum=0.1):\n",
        "    self.eps = eps\n",
        "    self.momentum = momentum\n",
        "    self.training = True\n",
        "    # parameters (trained with backprop)\n",
        "    self.gamma = torch.ones(dim)\n",
        "    self.beta = torch.zeros(dim)\n",
        "    # buffers (trained with a running 'momentum update')\n",
        "    self.running_mean = torch.zeros(dim)\n",
        "    self.running_var = torch.ones(dim)\n",
        "    self._parameters = [self.gamma, self.beta]\n",
        "\n",
        "  def __call__(self, x):\n",
        "    # calculate the forward pass\n",
        "    if self.training:\n",
        "      if x.ndim == 2:\n",
        "        dim = 0\n",
        "      elif x.ndim == 3:\n",
        "        dim = (0,1)\n",
        "      xmean = x.mean(dim, keepdim=True) # batch mean\n",
        "      xvar = x.var(dim, keepdim=True) # batch variance\n",
        "    else:\n",
        "      xmean = self.running_mean\n",
        "      xvar = self.running_var\n",
        "    xhat = (x - xmean) / torch.sqrt(xvar + self.eps) # normalize to unit variance\n",
        "    self.out = self.gamma * xhat + self.beta\n",
        "    # update the buffers\n",
        "    if self.training:\n",
        "      with torch.no_grad():\n",
        "        self.running_mean = (1 - self.momentum) * self.running_mean + self.momentum * xmean\n",
        "        self.running_var = (1 - self.momentum) * self.running_var + self.momentum * xvar\n",
        "    return self.out\n",
        "\n",
        "  def parameters(self):\n",
        "    return self._parameters\n",
        "\n",
        "class LinearStack:\n",
        "\n",
        "  def __init__(self, fan_in:int, layer_dims:list[int]):\n",
        "    layers = [Linear(fan_in, layer_dims[0]), BatchNorm1d(layer_dims[0]), LeakyRelu()]\n",
        "    for i in range(1, len(layer_dims)):\n",
        "      layer_fan_in, layer_fan_out = layer_dims[i-1], layer_dims[i]\n",
        "      layers.append(Linear(layer_fan_in, layer_fan_out))\n",
        "\n",
        "      # Try commenting this line out and see the mindf*** which happens\n",
        "      # I literally had to go and see the distribution of `out` of each layer to understand what could be going wrong\n",
        "      layers.append(BatchNorm1d(layer_fan_out))\n",
        "\n",
        "      layers.append(LeakyRelu())\n",
        "    self.layers = layers\n",
        "    self._parameters = [p for layer in layers for p in layer.parameters()]\n",
        "\n",
        "  def __call__(self, x):\n",
        "    for layer in self.layers:\n",
        "      x = layer(x)\n",
        "    self.out = x\n",
        "    return self.out\n",
        "\n",
        "  def parameters(self):\n",
        "    return self._parameters\n",
        "\n",
        "\n",
        "class Sigmoid:\n",
        "\n",
        "  def __call__(self, x):\n",
        "    self.out = torch.sigmoid(x)\n",
        "    return self.out\n",
        "\n",
        "  def parameters(self):\n",
        "    return []\n",
        "\n",
        "\n",
        "class Sequential:\n",
        "\n",
        "  def __init__(self, layers):\n",
        "    self.layers = []\n",
        "    for layer in layers:\n",
        "        if hasattr(layer, 'layers'):\n",
        "            self.layers.extend(layer.layers)\n",
        "        else:\n",
        "            self.layers.append(layer)\n",
        "    self._parameters = [p for layer in self.layers for p in layer.parameters()]\n",
        "\n",
        "  def __call__(self, x):\n",
        "    for layer in self.layers:\n",
        "      x = layer(x)\n",
        "    self.out = x\n",
        "    return self.out\n",
        "\n",
        "  def parameters(self):\n",
        "    return self._parameters\n",
        "\n",
        "  def print_outs(self):\n",
        "    for layer in self.layers:\n",
        "        print(layer.__class__.__name__)\n",
        "        print(layer.out)"
      ],
      "metadata": {
        "id": "5CU36RMTbTJ0"
      },
      "execution_count": null,
      "outputs": []
    },
    {
      "cell_type": "code",
      "source": [
        "def L_layer_model(layers_dims):\n",
        "    model = Sequential([\n",
        "        LinearStack(train_x_orig.shape[1], layers_dims),\n",
        "        Linear(layers_dims[-1], 1), Sigmoid(),\n",
        "        ])\n",
        "\n",
        "    # parameter init\n",
        "    with torch.no_grad():\n",
        "        model.layers[-2].weight *= 0.1 # last layer make less confident\n",
        "\n",
        "    parameters = model.parameters()\n",
        "\n",
        "    for p in parameters:\n",
        "        p.requires_grad = True\n",
        "\n",
        "    return model, sum(p.nelement() for p in parameters)"
      ],
      "metadata": {
        "id": "en0Jxl4chni7"
      },
      "execution_count": null,
      "outputs": []
    },
    {
      "cell_type": "code",
      "source": [
        "# model, nparameters = L_layer_model([5])\n",
        "# print(f\"{nparameters=}\")\n",
        "\n",
        "# losses = []\n",
        "# loss = torch.nn.BCELoss()"
      ],
      "metadata": {
        "id": "GJf5gF_Ik3-6"
      },
      "execution_count": null,
      "outputs": []
    },
    {
      "cell_type": "code",
      "source": [
        "# X, Y = train_x_orig, train_y\n",
        "# learning_rate = 0.001\n",
        "\n",
        "# # Batch data preparation\n",
        "# batch_x, batch_y = X, Y\n",
        "\n",
        "# # Forward propagation:\n",
        "# batch_y_pred = model(batch_x)\n",
        "# lossi = loss(batch_y_pred, batch_y)\n",
        "\n",
        "# losses.append(lossi.item())\n",
        "# lossi"
      ],
      "metadata": {
        "id": "sYjKUHi_k_zs"
      },
      "execution_count": null,
      "outputs": []
    },
    {
      "cell_type": "code",
      "source": [
        "# lyr = model.layers[5]\n",
        "# print(lyr.__class__.__name__)\n",
        "# data = lyr.out.detach().flatten()\n",
        "# plt.hist(data)"
      ],
      "metadata": {
        "id": "omud1XYXhkyd"
      },
      "execution_count": null,
      "outputs": []
    },
    {
      "cell_type": "code",
      "source": [
        "# # backward pass\n",
        "# for p in model.parameters():\n",
        "#     p.grad = None\n",
        "# lossi.backward()\n",
        "# model.grads()"
      ],
      "metadata": {
        "id": "XrbbsFLJlcsc"
      },
      "execution_count": null,
      "outputs": []
    },
    {
      "cell_type": "code",
      "source": [
        "# # update: simple SGD\n",
        "# for p in model.parameters():\n",
        "#     p.data += -learning_rate * p.grad\n",
        "# model.parameters()"
      ],
      "metadata": {
        "id": "RPyIRmUJlg3n"
      },
      "execution_count": null,
      "outputs": []
    },
    {
      "cell_type": "code",
      "source": [
        "layers_dims = [6, 5, 4]\n",
        "\n",
        "model, nparameters = L_layer_model(layers_dims)\n",
        "print(f\"{nparameters=}\")\n",
        "\n",
        "def train(model, X, Y, learning_rate = 0.05, num_iterations = 2000):\n",
        "\n",
        "    for layer in model.layers:\n",
        "        layer.training = True\n",
        "\n",
        "    losses = []\n",
        "    loss = torch.nn.BCELoss()\n",
        "\n",
        "    for i in range(0, num_iterations):\n",
        "\n",
        "        # Batch data preparation\n",
        "        batch_x, batch_y = X, Y\n",
        "\n",
        "        # Forward propagation:\n",
        "        batch_y_pred = model(batch_x)\n",
        "        lossi = loss(batch_y_pred, batch_y)\n",
        "\n",
        "        # backward pass\n",
        "        for p in model.parameters():\n",
        "            p.grad = None\n",
        "        lossi.backward()\n",
        "\n",
        "        # update: simple SGD\n",
        "        for p in model.parameters():\n",
        "            p.data += -(learning_rate * (1 - (i > (0.85*num_iterations)) * 0.9)) * p.grad\n",
        "\n",
        "        if (i % 100 == 0) or (i == num_iterations - 1):\n",
        "            print(f\"Iteration {i+1} | Loss: {lossi.item()}\")\n",
        "\n",
        "        losses.append(lossi.item())\n",
        "\n",
        "    return losses\n",
        "\n",
        "losses = train(model, train_x_orig, train_y)"
      ],
      "metadata": {
        "colab": {
          "base_uri": "https://localhost:8080/"
        },
        "id": "hI0Yg0T9ke0g",
        "outputId": "44474c6c-366a-47e3-fa38-416d5673ef38"
      },
      "execution_count": null,
      "outputs": [
        {
          "output_type": "stream",
          "name": "stdout",
          "text": [
            "nparameters=73828\n",
            "Iteration 1 | Loss: 0.6784414052963257\n",
            "Iteration 101 | Loss: 0.41277292370796204\n",
            "Iteration 201 | Loss: 0.20921973884105682\n",
            "Iteration 301 | Loss: 0.14297592639923096\n",
            "Iteration 401 | Loss: 0.10691392421722412\n",
            "Iteration 501 | Loss: 0.08529554307460785\n",
            "Iteration 601 | Loss: 0.0713895857334137\n",
            "Iteration 701 | Loss: 0.06189650297164917\n",
            "Iteration 801 | Loss: 0.0590977743268013\n",
            "Iteration 901 | Loss: 0.0399126261472702\n",
            "Iteration 1001 | Loss: 0.034577298909425735\n",
            "Iteration 1101 | Loss: 0.030494626611471176\n",
            "Iteration 1201 | Loss: 0.027249591425061226\n",
            "Iteration 1301 | Loss: 0.02459944784641266\n",
            "Iteration 1401 | Loss: 0.022410858422517776\n",
            "Iteration 1501 | Loss: 0.020570870488882065\n",
            "Iteration 1601 | Loss: 0.018995197489857674\n",
            "Iteration 1701 | Loss: 0.01763457991182804\n",
            "Iteration 1801 | Loss: 0.017497878521680832\n",
            "Iteration 1901 | Loss: 0.01737433485686779\n",
            "Iteration 2000 | Loss: 0.01725364848971367\n"
          ]
        }
      ]
    },
    {
      "cell_type": "code",
      "source": [
        "plt.plot(torch.tensor(losses))"
      ],
      "metadata": {
        "colab": {
          "base_uri": "https://localhost:8080/",
          "height": 450
        },
        "id": "pQ_D7C2SwBZy",
        "outputId": "f79b186a-9c26-44f0-81eb-77af42bd8c2e"
      },
      "execution_count": null,
      "outputs": [
        {
          "output_type": "execute_result",
          "data": {
            "text/plain": [
              "[<matplotlib.lines.Line2D at 0x7f354a0cc560>]"
            ]
          },
          "metadata": {},
          "execution_count": 144
        },
        {
          "output_type": "display_data",
          "data": {
            "text/plain": [
              "<Figure size 640x480 with 1 Axes>"
            ],
            "image/png": "[encoded data removed]"
          },
          "metadata": {}
        }
      ]
    },
    {
      "cell_type": "code",
      "source": [
        "def predict(model, x):\n",
        "    for layer in model.layers:\n",
        "        layer.training = False\n",
        "\n",
        "    with torch.no_grad():\n",
        "        y_pred = model(x)\n",
        "        y_pred = (y_pred > 0.5).float()\n",
        "    return y_pred\n",
        "\n",
        "def accuracy(y_pred, y_true):\n",
        "    return (y_pred == y_true).float().mean()"
      ],
      "metadata": {
        "id": "5v4OauyNxwO5"
      },
      "execution_count": null,
      "outputs": []
    },
    {
      "cell_type": "code",
      "source": [
        "predictions_train = predict(model, train_x_orig)\n",
        "train_accuracy = accuracy(predictions_train, train_y)\n",
        "\n",
        "predictions_test = predict(model, test_x_orig)\n",
        "test_accuracy = accuracy(predictions_test, test_y)\n",
        "\n",
        "print(f\"train accuracy: {train_accuracy}\")\n",
        "print(f\"test accuracy: {test_accuracy}\")"
      ],
      "metadata": {
        "colab": {
          "base_uri": "https://localhost:8080/"
        },
        "id": "Uf5E59SjyIO-",
        "outputId": "5bccd778-59d2-46bc-cd3e-611da30122a3"
      },
      "execution_count": null,
      "outputs": [
        {
          "output_type": "stream",
          "name": "stdout",
          "text": [
            "train accuracy: 1.0\n",
            "test accuracy: 0.7200000286102295\n"
          ]
        }
      ]
    },
    {
      "cell_type": "code",
      "source": [
        "plt.hist(predictions_train,bins=100)"
      ],
      "metadata": {
        "colab": {
          "base_uri": "https://localhost:8080/",
          "height": 1000
        },
        "id": "KAe-_2hN4nUx",
        "outputId": "b5528875-4eb4-4bdc-8f10-b2b5f9467969"
      },
      "execution_count": null,
      "outputs": [
        {
          "output_type": "execute_result",
          "data": {
            "text/plain": [
              "(array([137.,   0.,   0.,   0.,   0.,   0.,   0.,   0.,   0.,   0.,   0.,\n",
              "          0.,   0.,   0.,   0.,   0.,   0.,   0.,   0.,   0.,   0.,   0.,\n",
              "          0.,   0.,   0.,   0.,   0.,   0.,   0.,   0.,   0.,   0.,   0.,\n",
              "          0.,   0.,   0.,   0.,   0.,   0.,   0.,   0.,   0.,   0.,   0.,\n",
              "          0.,   0.,   0.,   0.,   0.,   0.,   0.,   0.,   0.,   0.,   0.,\n",
              "          0.,   0.,   0.,   0.,   0.,   0.,   0.,   0.,   0.,   0.,   0.,\n",
              "          0.,   0.,   0.,   0.,   0.,   0.,   0.,   0.,   0.,   0.,   0.,\n",
              "          0.,   0.,   0.,   0.,   0.,   0.,   0.,   0.,   0.,   0.,   0.,\n",
              "          0.,   0.,   0.,   0.,   0.,   0.,   0.,   0.,   0.,   0.,   0.,\n",
              "         72.]),\n",
              " array([4.16585593e-04, 9.97059513e-03, 1.95246059e-02, 2.90786158e-02,\n",
              "        3.86326239e-02, 4.81866337e-02, 5.77406436e-02, 6.72946498e-02,\n",
              "        7.68486634e-02, 8.64026770e-02, 9.59566832e-02, 1.05510689e-01,\n",
              "        1.15064703e-01, 1.24618717e-01, 1.34172723e-01, 1.43726736e-01,\n",
              "        1.53280750e-01, 1.62834764e-01, 1.72388777e-01, 1.81942776e-01,\n",
              "        1.91496789e-01, 2.01050803e-01, 2.10604802e-01, 2.20158815e-01,\n",
              "        2.29712829e-01, 2.39266843e-01, 2.48820856e-01, 2.58374840e-01,\n",
              "        2.67928839e-01, 2.77482867e-01, 2.87036866e-01, 2.96590894e-01,\n",
              "        3.06144893e-01, 3.15698892e-01, 3.25252920e-01, 3.34806919e-01,\n",
              "        3.44360948e-01, 3.53914946e-01, 3.63468945e-01, 3.73022974e-01,\n",
              "        3.82576972e-01, 3.92130971e-01, 4.01684999e-01, 4.11238998e-01,\n",
              "        4.20792997e-01, 4.30347025e-01, 4.39901024e-01, 4.49455053e-01,\n",
              "        4.59009051e-01, 4.68563050e-01, 4.78117079e-01, 4.87671077e-01,\n",
              "        4.97225106e-01, 5.06779075e-01, 5.16333103e-01, 5.25887132e-01,\n",
              "        5.35441101e-01, 5.44995129e-01, 5.54549158e-01, 5.64103186e-01,\n",
              "        5.73657155e-01, 5.83211184e-01, 5.92765212e-01, 6.02319181e-01,\n",
              "        6.11873209e-01, 6.21427238e-01, 6.30981207e-01, 6.40535235e-01,\n",
              "        6.50089264e-01, 6.59643233e-01, 6.69197261e-01, 6.78751290e-01,\n",
              "        6.88305318e-01, 6.97859287e-01, 7.07413316e-01, 7.16967344e-01,\n",
              "        7.26521313e-01, 7.36075342e-01, 7.45629370e-01, 7.55183339e-01,\n",
              "        7.64737368e-01, 7.74291396e-01, 7.83845365e-01, 7.93399394e-01,\n",
              "        8.02953422e-01, 8.12507391e-01, 8.22061419e-01, 8.31615448e-01,\n",
              "        8.41169417e-01, 8.50723445e-01, 8.60277474e-01, 8.69831502e-01,\n",
              "        8.79385471e-01, 8.88939500e-01, 8.98493528e-01, 9.08047497e-01,\n",
              "        9.17601526e-01, 9.27155554e-01, 9.36709523e-01, 9.46263552e-01,\n",
              "        9.55817521e-01]),\n",
              " <BarContainer object of 100 artists>)"
            ]
          },
          "metadata": {},
          "execution_count": 155
        },
        {
          "output_type": "display_data",
          "data": {
            "text/plain": [
              "<Figure size 640x480 with 1 Axes>"
            ],
            "image/png": "[encoded data removed]"
          },
          "metadata": {}
        }
      ]
    }
  ]
}
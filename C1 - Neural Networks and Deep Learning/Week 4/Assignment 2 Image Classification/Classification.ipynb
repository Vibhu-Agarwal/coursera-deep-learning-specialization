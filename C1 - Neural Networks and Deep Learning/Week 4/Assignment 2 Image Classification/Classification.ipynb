{
  "nbformat": 4,
  "nbformat_minor": 0,
  "metadata": {
    "colab": {
      "provenance": []
    },
    "kernelspec": {
      "name": "python3",
      "display_name": "Python 3"
    },
    "language_info": {
      "name": "python"
    }
  },
  "cells": [
    {
      "cell_type": "code",
      "source": [
        "from google.colab import drive\n",
        "drive.mount('/content/gdrive')"
      ],
      "metadata": {
        "colab": {
          "base_uri": "https://localhost:8080/"
        },
        "id": "B67heFoiO8Ok",
        "outputId": "82e043f1-d8c2-4932-e8bf-243938edc27b"
      },
      "execution_count": 1,
      "outputs": [
        {
          "output_type": "stream",
          "name": "stdout",
          "text": [
            "Mounted at /content/gdrive\n"
          ]
        }
      ]
    },
    {
      "cell_type": "code",
      "execution_count": 2,
      "metadata": {
        "id": "bLZyn_faoVI7"
      },
      "outputs": [],
      "source": [
        "import torch\n",
        "import torch.nn.functional as F\n",
        "import matplotlib.pyplot as plt\n",
        "from sklearn.metrics import confusion_matrix, ConfusionMatrixDisplay\n",
        "%matplotlib inline"
      ]
    },
    {
      "cell_type": "code",
      "metadata": {
        "colab": {
          "base_uri": "https://localhost:8080/"
        },
        "id": "87c72b9e",
        "outputId": "87c0fcf8-2914-42e4-9951-88b1472e1107"
      },
      "source": [
        "DATA_DIR = '/content/gdrive/My Drive/Colab Notebooks/dl-sp-c1w4/datasets'\n",
        "\n",
        "def reshape_input(x):\n",
        "    return x\n",
        "\n",
        "def load_data():\n",
        "    import h5py\n",
        "    import numpy as np\n",
        "    import os\n",
        "\n",
        "    train_path = f\"{DATA_DIR}/train_catvnoncat.h5\"\n",
        "    test_path = f\"{DATA_DIR}/test_catvnoncat.h5\"\n",
        "\n",
        "    train_dataset = h5py.File(train_path, \"r\")\n",
        "    train_set_x_orig = torch.from_numpy(np.array(train_dataset[\"train_set_x\"][:])).float()\n",
        "    train_set_x = reshape_input(train_set_x_orig)\n",
        "    train_set_y = torch.from_numpy(np.array(train_dataset[\"train_set_y\"][:])).float()\n",
        "\n",
        "    test_dataset = h5py.File(test_path, \"r\")\n",
        "    test_set_x_orig = torch.from_numpy(np.array(test_dataset[\"test_set_x\"][:])).float()\n",
        "    test_set_x = reshape_input(test_set_x_orig)\n",
        "    test_set_y = torch.from_numpy(np.array(test_dataset[\"test_set_y\"][:])).float()\n",
        "\n",
        "    classes = test_dataset[\"list_classes\"][:]\n",
        "    classes = [x.decode('utf-8') for x in classes]\n",
        "\n",
        "    return train_set_x, train_set_y, test_set_x, test_set_y, classes\n",
        "\n",
        "train_x_orig, train_y, test_x_orig, test_y, classes = load_data()\n",
        "print(f\"{train_x_orig.shape=}\")\n",
        "print(f\"{train_y.shape=}\")\n",
        "print(f\"{test_x_orig.shape=}\")\n",
        "print(f\"{test_y.shape=}\")"
      ],
      "execution_count": 3,
      "outputs": [
        {
          "output_type": "stream",
          "name": "stdout",
          "text": [
            "train_x_orig.shape=torch.Size([209, 64, 64, 3])\n",
            "train_y.shape=torch.Size([209])\n",
            "test_x_orig.shape=torch.Size([50, 64, 64, 3])\n",
            "test_y.shape=torch.Size([50])\n"
          ]
        }
      ]
    },
    {
      "cell_type": "code",
      "source": [
        "class Model:\n",
        "    def predict(self, x):\n",
        "        for layer in self.layers:\n",
        "            layer.training = False\n",
        "\n",
        "        with torch.no_grad():\n",
        "            y_pred = self(x)\n",
        "            y_pred = (y_pred > 0.5).float()\n",
        "        return y_pred\n",
        "\n",
        "    @staticmethod\n",
        "    def accuracy(y_pred, y_true):\n",
        "        return (y_pred == y_true).float().mean()\n",
        "\n",
        "    @staticmethod\n",
        "    def confustion_matrix(y_pred, y_true):\n",
        "        cm = confusion_matrix(y_true, y_pred)\n",
        "        print(cm)\n",
        "        ConfusionMatrixDisplay(cm).plot()\n",
        "\n",
        "\n",
        "class FlattenConsecutive:\n",
        "\n",
        "  def __init__(self, n):\n",
        "    self.n = n\n",
        "\n",
        "  def __repr__(self):\n",
        "    return f\"{self.__class__.__name__}({self.n})\"\n",
        "\n",
        "  def __call__(self, x):\n",
        "    exmps, rows, values = x.shape\n",
        "    x = x.view(exmps, rows//self.n, values*self.n)\n",
        "    if x.shape[1] == 1:\n",
        "      x = x.squeeze(1)\n",
        "    self.out = x\n",
        "    return self.out\n",
        "\n",
        "  def parameters(self):\n",
        "    return []\n",
        "\n",
        "\n",
        "class Linear:\n",
        "\n",
        "  def __init__(self, fan_in, fan_out, bias=True, id=\"id\"):\n",
        "    self.id = id\n",
        "    self.f_in, self.f_out = fan_in, fan_out\n",
        "    self.weight = torch.randn((fan_in, fan_out)) / fan_in**0.5 # note: kaiming init\n",
        "    self.bias = torch.zeros(fan_out) if bias else None\n",
        "\n",
        "  def __repr__(self):\n",
        "    return f\"[{self.id}]{self.__class__.__name__} [{self.f_in}->{self.f_out}]\"\n",
        "\n",
        "  def __call__(self, x):\n",
        "    # print(str(self), f\"{x.shape=}\")\n",
        "    self.out = x @ self.weight\n",
        "    if self.bias is not None:\n",
        "      self.out += self.bias\n",
        "    self.out = self.out.squeeze()\n",
        "    # print(str(self), f\"{self.out.shape=}\")\n",
        "    return self.out\n",
        "\n",
        "  def parameters(self):\n",
        "    return [self.weight] + ([] if self.bias is None else [self.bias])\n",
        "\n",
        "\n",
        "class LeakyRelu:\n",
        "\n",
        "  def __init__(self):\n",
        "    self.relu = torch.nn.LeakyReLU()\n",
        "\n",
        "  def __call__(self, x):\n",
        "    self.out = self.relu(x)\n",
        "    return self.out\n",
        "\n",
        "  def parameters(self):\n",
        "    return []\n",
        "\n",
        "class Tanh:\n",
        "  def __call__(self, x):\n",
        "    self.out = torch.tanh(x)\n",
        "    return self.out\n",
        "\n",
        "  def parameters(self):\n",
        "    return []\n",
        "\n",
        "class BatchNorm1d:\n",
        "\n",
        "  def __init__(self, dim, eps=1e-5, momentum=0.1):\n",
        "    self.eps = eps\n",
        "    self.momentum = momentum\n",
        "    self.training = True\n",
        "    # parameters (trained with backprop)\n",
        "    self.gamma = torch.ones(dim)\n",
        "    self.beta = torch.zeros(dim)\n",
        "    # buffers (trained with a running 'momentum update')\n",
        "    self.running_mean = torch.zeros(dim)\n",
        "    self.running_var = torch.ones(dim)\n",
        "    self._parameters = [self.gamma, self.beta]\n",
        "\n",
        "  def __call__(self, x):\n",
        "    # calculate the forward pass\n",
        "    if self.training:\n",
        "      dim = tuple(range(x.ndim-1))\n",
        "      xmean = x.mean(dim, keepdim=True) # batch mean\n",
        "      xvar = x.var(dim, keepdim=True) # batch variance\n",
        "    else:\n",
        "      xmean = self.running_mean\n",
        "      xvar = self.running_var\n",
        "    xhat = (x - xmean) / torch.sqrt(xvar + self.eps) # normalize to unit variance\n",
        "    self.out = self.gamma * xhat + self.beta\n",
        "    # update the buffers\n",
        "    if self.training:\n",
        "      with torch.no_grad():\n",
        "        self.running_mean = (1 - self.momentum) * self.running_mean + self.momentum * xmean\n",
        "        self.running_var = (1 - self.momentum) * self.running_var + self.momentum * xvar\n",
        "    return self.out\n",
        "\n",
        "  def parameters(self):\n",
        "    return self._parameters\n",
        "\n",
        "\n",
        "class WaveStack:\n",
        "\n",
        "  def __init__(self, fan_in:int, dim_in:int, neurons=10, activationLayer=LeakyRelu):\n",
        "    assert dim_in & (dim_in - 1) == 0\n",
        "\n",
        "    layers = []\n",
        "    id = 0\n",
        "    while dim_in > 1:\n",
        "        layers.extend([FlattenConsecutive(2), Linear(fan_in*2, neurons, bias=False, id=id), BatchNorm1d(neurons), activationLayer()])\n",
        "        dim_in //= 2\n",
        "        fan_in = neurons\n",
        "        id += 1\n",
        "    self.layers = layers\n",
        "    self._parameters = [p for layer in self.layers for p in layer.parameters()]\n",
        "\n",
        "  def __call__(self, x):\n",
        "    for layer in self.layers:\n",
        "      x = layer(x)\n",
        "    self.out = x\n",
        "    return self.out\n",
        "\n",
        "  def parameters(self):\n",
        "    return self._parameters\n",
        "\n",
        "\n",
        "class LinearStack:\n",
        "\n",
        "  def __init__(self, fan_in:int, layer_dims:list[int], activationLayer=LeakyRelu):\n",
        "    layers = [Linear(fan_in, layer_dims[0], bias=False), BatchNorm1d(layer_dims[0]), activationLayer()]\n",
        "    for i in range(1, len(layer_dims)):\n",
        "      layer_fan_in, layer_fan_out = layer_dims[i-1], layer_dims[i]\n",
        "      layers.append(Linear(layer_fan_in, layer_fan_out))\n",
        "\n",
        "      # Try commenting this line out and see the mindf*** which happens\n",
        "      # I literally had to go and see the distribution of `out` of each layer to understand what could be going wrong\n",
        "      layers.append(BatchNorm1d(layer_fan_out))\n",
        "\n",
        "      layers.append(activationLayer())\n",
        "    self.layers = layers\n",
        "    self._parameters = [p for layer in layers for p in layer.parameters()]\n",
        "\n",
        "  def __call__(self, x):\n",
        "    for layer in self.layers:\n",
        "      x = layer(x)\n",
        "    self.out = x\n",
        "    return self.out\n",
        "\n",
        "  def parameters(self):\n",
        "    return self._parameters\n",
        "\n",
        "\n",
        "class Sigmoid:\n",
        "\n",
        "  def __call__(self, x):\n",
        "    self.out = torch.sigmoid(x)\n",
        "    return self.out\n",
        "\n",
        "  def parameters(self):\n",
        "    return []\n",
        "\n",
        "\n",
        "class Sequential(Model):\n",
        "\n",
        "  def __init__(self, layers):\n",
        "    self.layers = []\n",
        "    for layer in layers:\n",
        "        if hasattr(layer, 'layers'):\n",
        "            self.layers.extend(layer.layers)\n",
        "        else:\n",
        "            self.layers.append(layer)\n",
        "    self._parameters = [p for layer in self.layers for p in layer.parameters()]\n",
        "\n",
        "  def __call__(self, x):\n",
        "    for layer in self.layers:\n",
        "      x = layer(x)\n",
        "    self.out = x\n",
        "    return self.out\n",
        "\n",
        "  def parameters(self):\n",
        "    return self._parameters"
      ],
      "metadata": {
        "id": "5CU36RMTbTJ0"
      },
      "execution_count": 34,
      "outputs": []
    },
    {
      "cell_type": "code",
      "source": [
        "def wave_model(n_hidden=10):\n",
        "    model = Sequential([\n",
        "                Linear(3, 1, bias=False), BatchNorm1d(1), LeakyRelu(),\n",
        "                WaveStack(train_x_orig.shape[2], train_x_orig.shape[1], neurons=n_hidden, activationLayer=LeakyRelu),\n",
        "                Linear(n_hidden, 1), Sigmoid(),\n",
        "            ])\n",
        "\n",
        "    # parameter init\n",
        "    with torch.no_grad():\n",
        "        model.layers[-2].weight *= 0.1 # last layer make less confident\n",
        "\n",
        "    parameters = model.parameters()\n",
        "\n",
        "    for p in parameters:\n",
        "        p.requires_grad = True\n",
        "\n",
        "    return model, sum(p.nelement() for p in parameters)"
      ],
      "metadata": {
        "id": "en0Jxl4chni7"
      },
      "execution_count": 35,
      "outputs": []
    },
    {
      "cell_type": "code",
      "source": [
        "model, nparameters = wave_model(n_hidden=5)\n",
        "print(f\"{nparameters=}\")\n",
        "model.layers"
      ],
      "metadata": {
        "colab": {
          "base_uri": "https://localhost:8080/"
        },
        "id": "Vp7upA8ugBzA",
        "outputId": "73e0c5ac-11c0-4372-e599-439fd3cd7d4e"
      },
      "execution_count": 66,
      "outputs": [
        {
          "output_type": "stream",
          "name": "stdout",
          "text": [
            "nparameters=961\n"
          ]
        },
        {
          "output_type": "execute_result",
          "data": {
            "text/plain": [
              "[[id]Linear [3->1],\n",
              " <__main__.BatchNorm1d at 0x7dd088ddf620>,\n",
              " <__main__.LeakyRelu at 0x7dd088b2ecf0>,\n",
              " FlattenConsecutive(2),\n",
              " [0]Linear [128->5],\n",
              " <__main__.BatchNorm1d at 0x7dd088f3f0b0>,\n",
              " <__main__.LeakyRelu at 0x7dd0890cab40>,\n",
              " FlattenConsecutive(2),\n",
              " [1]Linear [10->5],\n",
              " <__main__.BatchNorm1d at 0x7dd088e66120>,\n",
              " <__main__.LeakyRelu at 0x7dd0891637a0>,\n",
              " FlattenConsecutive(2),\n",
              " [2]Linear [10->5],\n",
              " <__main__.BatchNorm1d at 0x7dd088a0d550>,\n",
              " <__main__.LeakyRelu at 0x7dd088a0dd30>,\n",
              " FlattenConsecutive(2),\n",
              " [3]Linear [10->5],\n",
              " <__main__.BatchNorm1d at 0x7dd088a0ede0>,\n",
              " <__main__.LeakyRelu at 0x7dd088a0c8c0>,\n",
              " FlattenConsecutive(2),\n",
              " [4]Linear [10->5],\n",
              " <__main__.BatchNorm1d at 0x7dd088a0d730>,\n",
              " <__main__.LeakyRelu at 0x7dd088a0d4f0>,\n",
              " FlattenConsecutive(2),\n",
              " [5]Linear [10->5],\n",
              " <__main__.BatchNorm1d at 0x7dd088a0d9d0>,\n",
              " <__main__.LeakyRelu at 0x7dd088a0c980>,\n",
              " [id]Linear [5->1],\n",
              " <__main__.Sigmoid at 0x7dd088b55d00>]"
            ]
          },
          "metadata": {},
          "execution_count": 66
        }
      ]
    },
    {
      "cell_type": "code",
      "source": [
        "def learning_rate(iteration:int, total_iterations:int, lr=0.01, decay_after=0.8, decay_amount=0.1):\n",
        "    return (lr * decay_amount) if iteration > (decay_after * total_iterations) else lr\n",
        "\n",
        "def prepare_batch(X, Y, batch_size):\n",
        "    idx = torch.randperm(X.shape[0])[:batch_size]\n",
        "    return X[idx], Y[idx]\n",
        "\n",
        "def train(model, X, Y, lr = 0.02, batch_size=16, num_iterations=3000, weight_decay=0.0):\n",
        "\n",
        "    for layer in model.layers:\n",
        "        layer.training = True\n",
        "\n",
        "    losses = []\n",
        "    loss_fn = torch.nn.BCELoss()\n",
        "\n",
        "    decay_after = 0.7 # decay after decay_after% iterations are done\n",
        "\n",
        "    for i in range(0, num_iterations):\n",
        "\n",
        "        # Batch data preparation\n",
        "        batch_x, batch_y = prepare_batch(X, Y, batch_size)\n",
        "\n",
        "        # Forward propagation:\n",
        "        batch_y_pred = model(batch_x)\n",
        "        loss = loss_fn(batch_y_pred, batch_y)\n",
        "\n",
        "        # L2 Regularization\n",
        "        if weight_decay > 0:\n",
        "            # Only regularize weights (tensors with 2+ dimensions), not biases or batchnorm params.\n",
        "            l2_norm = sum(p.pow(2.0).sum() for p in model.parameters() if p.dim() > 1)\n",
        "            loss = loss + weight_decay * l2_norm\n",
        "\n",
        "        # backward pass\n",
        "        for p in model.parameters():\n",
        "            p.grad = None\n",
        "        loss.backward()\n",
        "\n",
        "        # update: simple SGD\n",
        "        for p in model.parameters():\n",
        "            p.data += -learning_rate(i, num_iterations, lr, decay_after) * p.grad\n",
        "\n",
        "        if (i % 100 == 0) or (i == num_iterations - 1):\n",
        "            print(f\"Iteration {i+1} | Loss: {loss.item()}\")\n",
        "\n",
        "        losses.append(loss.item())\n",
        "\n",
        "        # break\n",
        "\n",
        "    return losses\n",
        "\n",
        "losses = train(model, train_x_orig, train_y, weight_decay=0.001)\n",
        "plt.plot(torch.tensor(losses))"
      ],
      "metadata": {
        "colab": {
          "base_uri": "https://localhost:8080/",
          "height": 1000
        },
        "id": "hI0Yg0T9ke0g",
        "outputId": "b25d33a4-5ab9-443a-8dad-1230e282372f"
      },
      "execution_count": 67,
      "outputs": [
        {
          "output_type": "stream",
          "name": "stdout",
          "text": [
            "Iteration 1 | Loss: 0.7356769442558289\n",
            "Iteration 101 | Loss: 0.6155809164047241\n",
            "Iteration 201 | Loss: 0.6094621419906616\n",
            "Iteration 301 | Loss: 0.6803346276283264\n",
            "Iteration 401 | Loss: 0.5642908811569214\n",
            "Iteration 501 | Loss: 0.5735829472541809\n",
            "Iteration 601 | Loss: 0.5654395818710327\n",
            "Iteration 701 | Loss: 0.8689063191413879\n",
            "Iteration 801 | Loss: 0.49889108538627625\n",
            "Iteration 901 | Loss: 0.4585898220539093\n",
            "Iteration 1001 | Loss: 0.47318360209465027\n",
            "Iteration 1101 | Loss: 0.43783140182495117\n",
            "Iteration 1201 | Loss: 0.4249947667121887\n",
            "Iteration 1301 | Loss: 0.37202003598213196\n",
            "Iteration 1401 | Loss: 0.6680999398231506\n",
            "Iteration 1501 | Loss: 0.8439942002296448\n",
            "Iteration 1601 | Loss: 0.39675378799438477\n",
            "Iteration 1701 | Loss: 0.3390934467315674\n",
            "Iteration 1801 | Loss: 0.4181625545024872\n",
            "Iteration 1901 | Loss: 0.9074663519859314\n",
            "Iteration 2001 | Loss: 0.4594392776489258\n",
            "Iteration 2101 | Loss: 0.27203893661499023\n",
            "Iteration 2201 | Loss: 0.2509353458881378\n",
            "Iteration 2301 | Loss: 0.38007962703704834\n",
            "Iteration 2401 | Loss: 0.258161336183548\n",
            "Iteration 2501 | Loss: 0.37652450799942017\n",
            "Iteration 2601 | Loss: 0.4518437683582306\n",
            "Iteration 2701 | Loss: 0.27678731083869934\n",
            "Iteration 2801 | Loss: 0.2658178508281708\n",
            "Iteration 2901 | Loss: 0.3671475648880005\n",
            "Iteration 3000 | Loss: 0.24825552105903625\n"
          ]
        },
        {
          "output_type": "execute_result",
          "data": {
            "text/plain": [
              "[<matplotlib.lines.Line2D at 0x7dd088b831a0>]"
            ]
          },
          "metadata": {},
          "execution_count": 67
        },
        {
          "output_type": "display_data",
          "data": {
            "text/plain": [
              "<Figure size 640x480 with 1 Axes>"
            ],
            "image/png": "[encoded data removed]"
          },
          "metadata": {}
        }
      ]
    },
    {
      "cell_type": "code",
      "source": [
        "prediction_model = model\n",
        "\n",
        "predictions_train = prediction_model.predict(train_x_orig)\n",
        "train_accuracy = Model.accuracy(predictions_train, train_y)\n",
        "\n",
        "predictions_test = prediction_model.predict(test_x_orig)\n",
        "test_accuracy = Model.accuracy(predictions_test, test_y)\n",
        "\n",
        "print(f\"train accuracy: {train_accuracy}\")\n",
        "print(f\"test accuracy: {test_accuracy}\")\n",
        "\n",
        "# Model.confustion_matrix(predictions_train, train_y)\n",
        "Model.confustion_matrix(predictions_test, test_y)"
      ],
      "metadata": {
        "colab": {
          "base_uri": "https://localhost:8080/",
          "height": 520
        },
        "id": "Uf5E59SjyIO-",
        "outputId": "0f1f7ae7-4d37-4778-e7eb-e73f89e066c6"
      },
      "execution_count": 68,
      "outputs": [
        {
          "output_type": "stream",
          "name": "stdout",
          "text": [
            "train accuracy: 0.9138755798339844\n",
            "test accuracy: 0.8199999928474426\n",
            "[[13  4]\n",
            " [ 5 28]]\n"
          ]
        },
        {
          "output_type": "display_data",
          "data": {
            "text/plain": [
              "<Figure size 640x480 with 2 Axes>"
            ],
            "image/png": "[encoded data removed]"
          },
          "metadata": {}
        }
      ]
    }
  ]
}
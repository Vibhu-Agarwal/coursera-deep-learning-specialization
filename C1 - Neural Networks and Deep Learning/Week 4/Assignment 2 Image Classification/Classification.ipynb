{
  "nbformat": 4,
  "nbformat_minor": 0,
  "metadata": {
    "colab": {
      "provenance": []
    },
    "kernelspec": {
      "name": "python3",
      "display_name": "Python 3"
    },
    "language_info": {
      "name": "python"
    }
  },
  "cells": [
    {
      "cell_type": "code",
      "source": [
        "from google.colab import drive\n",
        "drive.mount('/content/gdrive')"
      ],
      "metadata": {
        "colab": {
          "base_uri": "https://localhost:8080/"
        },
        "id": "B67heFoiO8Ok",
        "outputId": "ec74283d-982c-44ec-90a5-f527b146662a"
      },
      "execution_count": 1,
      "outputs": [
        {
          "output_type": "stream",
          "name": "stdout",
          "text": [
            "Mounted at /content/gdrive\n"
          ]
        }
      ]
    },
    {
      "cell_type": "code",
      "execution_count": 40,
      "metadata": {
        "id": "bLZyn_faoVI7"
      },
      "outputs": [],
      "source": [
        "import torch\n",
        "import torch.nn.functional as F\n",
        "import matplotlib.pyplot as plt\n",
        "from sklearn.metrics import confusion_matrix, ConfusionMatrixDisplay\n",
        "%matplotlib inline"
      ]
    },
    {
      "cell_type": "code",
      "metadata": {
        "colab": {
          "base_uri": "https://localhost:8080/"
        },
        "id": "87c72b9e",
        "outputId": "6747c264-4894-4209-c927-f522258688f1"
      },
      "source": [
        "DATA_DIR = '/content/gdrive/My Drive/Colab Notebooks/dl-sp-c1w4/datasets'\n",
        "\n",
        "def load_data():\n",
        "    import h5py\n",
        "    import numpy as np\n",
        "    import os\n",
        "\n",
        "    train_path = f\"{DATA_DIR}/train_catvnoncat.h5\"\n",
        "    test_path = f\"{DATA_DIR}/test_catvnoncat.h5\"\n",
        "\n",
        "    train_dataset = h5py.File(train_path, \"r\")\n",
        "    train_set_x_orig = torch.from_numpy(np.array(train_dataset[\"train_set_x\"][:])).float()\n",
        "    train_set_x = train_set_x_orig.view(train_set_x_orig.shape[0], -1)\n",
        "    train_set_y = torch.from_numpy(np.array(train_dataset[\"train_set_y\"][:])).float()\n",
        "\n",
        "    test_dataset = h5py.File(test_path, \"r\")\n",
        "    test_set_x_orig = torch.from_numpy(np.array(test_dataset[\"test_set_x\"][:])).float()\n",
        "    test_set_x = test_set_x_orig.view(test_set_x_orig.shape[0], -1)\n",
        "    test_set_y = torch.from_numpy(np.array(test_dataset[\"test_set_y\"][:])).float()\n",
        "\n",
        "    classes = test_dataset[\"list_classes\"][:]\n",
        "    classes = [x.decode('utf-8') for x in classes]\n",
        "\n",
        "    return train_set_x, train_set_y, test_set_x, test_set_y, classes\n",
        "\n",
        "train_x_orig, train_y, test_x_orig, test_y, classes = load_data()\n",
        "train_x_orig.shape, train_y.shape, test_x_orig.shape, test_y.shape"
      ],
      "execution_count": 5,
      "outputs": [
        {
          "output_type": "execute_result",
          "data": {
            "text/plain": [
              "(torch.Size([209, 12288]),\n",
              " torch.Size([209]),\n",
              " torch.Size([50, 12288]),\n",
              " torch.Size([50]))"
            ]
          },
          "metadata": {},
          "execution_count": 5
        }
      ]
    },
    {
      "cell_type": "code",
      "source": [
        "class Model:\n",
        "    def predict(self, x):\n",
        "        for layer in self.layers:\n",
        "            layer.training = False\n",
        "\n",
        "        with torch.no_grad():\n",
        "            y_pred = self(x)\n",
        "            y_pred = (y_pred > 0.5).float()\n",
        "        return y_pred\n",
        "\n",
        "    @staticmethod\n",
        "    def accuracy(y_pred, y_true):\n",
        "        return (y_pred == y_true).float().mean()\n",
        "\n",
        "    @staticmethod\n",
        "    def confustion_matrix(y_pred, y_true):\n",
        "        cm = confusion_matrix(y_true, y_pred)\n",
        "        print(cm)\n",
        "        ConfusionMatrixDisplay(cm).plot()\n",
        "\n",
        "class Linear:\n",
        "\n",
        "  def __init__(self, fan_in, fan_out, bias=True):\n",
        "    self.weight = torch.randn((fan_in, fan_out)) / fan_in**0.5 # note: kaiming init\n",
        "    self.bias = torch.zeros(fan_out) if bias else None\n",
        "\n",
        "  def __call__(self, x):\n",
        "    self.out = x @ self.weight\n",
        "    if self.bias is not None:\n",
        "      self.out += self.bias\n",
        "    if self.out.shape[1] == 1:\n",
        "      self.out = self.out.squeeze(1)\n",
        "    return self.out\n",
        "\n",
        "  def parameters(self):\n",
        "    return [self.weight] + ([] if self.bias is None else [self.bias])\n",
        "\n",
        "\n",
        "class LeakyRelu:\n",
        "\n",
        "  def __init__(self):\n",
        "    self.relu = torch.nn.LeakyReLU()\n",
        "\n",
        "  def __call__(self, x):\n",
        "    self.out = self.relu(x)\n",
        "    return self.out\n",
        "\n",
        "  def parameters(self):\n",
        "    return []\n",
        "\n",
        "class Tanh:\n",
        "  def __call__(self, x):\n",
        "    self.out = torch.tanh(x)\n",
        "    return self.out\n",
        "\n",
        "  def parameters(self):\n",
        "    return []\n",
        "\n",
        "class BatchNorm1d:\n",
        "\n",
        "  def __init__(self, dim, eps=1e-5, momentum=0.1):\n",
        "    self.eps = eps\n",
        "    self.momentum = momentum\n",
        "    self.training = True\n",
        "    # parameters (trained with backprop)\n",
        "    self.gamma = torch.ones(dim)\n",
        "    self.beta = torch.zeros(dim)\n",
        "    # buffers (trained with a running 'momentum update')\n",
        "    self.running_mean = torch.zeros(dim)\n",
        "    self.running_var = torch.ones(dim)\n",
        "    self._parameters = [self.gamma, self.beta]\n",
        "\n",
        "  def __call__(self, x):\n",
        "    # calculate the forward pass\n",
        "    if self.training:\n",
        "      if x.ndim == 2:\n",
        "        dim = 0\n",
        "      elif x.ndim == 3:\n",
        "        dim = (0,1)\n",
        "      xmean = x.mean(dim, keepdim=True) # batch mean\n",
        "      xvar = x.var(dim, keepdim=True) # batch variance\n",
        "    else:\n",
        "      xmean = self.running_mean\n",
        "      xvar = self.running_var\n",
        "    xhat = (x - xmean) / torch.sqrt(xvar + self.eps) # normalize to unit variance\n",
        "    self.out = self.gamma * xhat + self.beta\n",
        "    # update the buffers\n",
        "    if self.training:\n",
        "      with torch.no_grad():\n",
        "        self.running_mean = (1 - self.momentum) * self.running_mean + self.momentum * xmean\n",
        "        self.running_var = (1 - self.momentum) * self.running_var + self.momentum * xvar\n",
        "    return self.out\n",
        "\n",
        "  def parameters(self):\n",
        "    return self._parameters\n",
        "\n",
        "class LinearStack:\n",
        "\n",
        "  def __init__(self, fan_in:int, layer_dims:list[int], activationLayer=LeakyRelu):\n",
        "    layers = [Linear(fan_in, layer_dims[0], bias=False), BatchNorm1d(layer_dims[0]), activationLayer()]\n",
        "    for i in range(1, len(layer_dims)):\n",
        "      layer_fan_in, layer_fan_out = layer_dims[i-1], layer_dims[i]\n",
        "      layers.append(Linear(layer_fan_in, layer_fan_out))\n",
        "\n",
        "      # Try commenting this line out and see the mindf*** which happens\n",
        "      # I literally had to go and see the distribution of `out` of each layer to understand what could be going wrong\n",
        "      layers.append(BatchNorm1d(layer_fan_out))\n",
        "\n",
        "      layers.append(activationLayer())\n",
        "    self.layers = layers\n",
        "    self._parameters = [p for layer in layers for p in layer.parameters()]\n",
        "\n",
        "  def __call__(self, x):\n",
        "    for layer in self.layers:\n",
        "      x = layer(x)\n",
        "    self.out = x\n",
        "    return self.out\n",
        "\n",
        "  def parameters(self):\n",
        "    return self._parameters\n",
        "\n",
        "\n",
        "class Sigmoid:\n",
        "\n",
        "  def __call__(self, x):\n",
        "    self.out = torch.sigmoid(x)\n",
        "    return self.out\n",
        "\n",
        "  def parameters(self):\n",
        "    return []\n",
        "\n",
        "\n",
        "class Sequential(Model):\n",
        "\n",
        "  def __init__(self, layers):\n",
        "    self.layers = []\n",
        "    for layer in layers:\n",
        "        if hasattr(layer, 'layers'):\n",
        "            self.layers.extend(layer.layers)\n",
        "        else:\n",
        "            self.layers.append(layer)\n",
        "    self._parameters = [p for layer in self.layers for p in layer.parameters()]\n",
        "\n",
        "  def __call__(self, x):\n",
        "    for layer in self.layers:\n",
        "      x = layer(x)\n",
        "    self.out = x\n",
        "    return self.out\n",
        "\n",
        "  def parameters(self):\n",
        "    return self._parameters\n",
        "\n",
        "  def print_outs(self):\n",
        "    for layer in self.layers:\n",
        "        print(layer.__class__.__name__)\n",
        "        print(layer.out)"
      ],
      "metadata": {
        "id": "5CU36RMTbTJ0"
      },
      "execution_count": 114,
      "outputs": []
    },
    {
      "cell_type": "code",
      "source": [
        "def L_layer_model(layers_dims):\n",
        "    model = Sequential([\n",
        "        LinearStack(train_x_orig.shape[1], layers_dims),\n",
        "        Linear(layers_dims[-1], 1), Sigmoid(),\n",
        "        ])\n",
        "\n",
        "    # parameter init\n",
        "    with torch.no_grad():\n",
        "        model.layers[-2].weight *= 0.1 # last layer make less confident\n",
        "\n",
        "    parameters = model.parameters()\n",
        "\n",
        "    for p in parameters:\n",
        "        p.requires_grad = True\n",
        "\n",
        "    return model, sum(p.nelement() for p in parameters)"
      ],
      "metadata": {
        "id": "en0Jxl4chni7"
      },
      "execution_count": 89,
      "outputs": []
    },
    {
      "cell_type": "code",
      "source": [
        "# model, nparameters = L_layer_model([5])\n",
        "# print(f\"{nparameters=}\")\n",
        "\n",
        "# losses = []\n",
        "# loss = torch.nn.BCELoss()"
      ],
      "metadata": {
        "id": "GJf5gF_Ik3-6"
      },
      "execution_count": null,
      "outputs": []
    },
    {
      "cell_type": "code",
      "source": [
        "# X, Y = train_x_orig, train_y\n",
        "# learning_rate = 0.001\n",
        "\n",
        "# # Batch data preparation\n",
        "# batch_x, batch_y = X, Y\n",
        "\n",
        "# # Forward propagation:\n",
        "# batch_y_pred = model(batch_x)\n",
        "# lossi = loss(batch_y_pred, batch_y)\n",
        "\n",
        "# losses.append(lossi.item())\n",
        "# lossi"
      ],
      "metadata": {
        "id": "sYjKUHi_k_zs"
      },
      "execution_count": null,
      "outputs": []
    },
    {
      "cell_type": "code",
      "source": [
        "# lyr = model.layers[5]\n",
        "# print(lyr.__class__.__name__)\n",
        "# data = lyr.out.detach().flatten()\n",
        "# plt.hist(data)"
      ],
      "metadata": {
        "id": "omud1XYXhkyd"
      },
      "execution_count": null,
      "outputs": []
    },
    {
      "cell_type": "code",
      "source": [
        "# # backward pass\n",
        "# for p in model.parameters():\n",
        "#     p.grad = None\n",
        "# lossi.backward()\n",
        "# model.grads()"
      ],
      "metadata": {
        "id": "XrbbsFLJlcsc"
      },
      "execution_count": null,
      "outputs": []
    },
    {
      "cell_type": "code",
      "source": [
        "# # update: simple SGD\n",
        "# for p in model.parameters():\n",
        "#     p.data += -learning_rate * p.grad\n",
        "# model.parameters()"
      ],
      "metadata": {
        "id": "RPyIRmUJlg3n"
      },
      "execution_count": null,
      "outputs": []
    },
    {
      "cell_type": "code",
      "source": [
        "layers_dims = [5, 8]\n",
        "\n",
        "model, nparameters = L_layer_model(layers_dims)\n",
        "print(f\"{nparameters=}\")"
      ],
      "metadata": {
        "colab": {
          "base_uri": "https://localhost:8080/"
        },
        "id": "Vp7upA8ugBzA",
        "outputId": "949a88d2-9017-437d-d416-1c58485df61b"
      },
      "execution_count": 127,
      "outputs": [
        {
          "output_type": "stream",
          "name": "stdout",
          "text": [
            "nparameters=61523\n"
          ]
        }
      ]
    },
    {
      "cell_type": "code",
      "source": [
        "model.layers"
      ],
      "metadata": {
        "colab": {
          "base_uri": "https://localhost:8080/"
        },
        "id": "J6AHKqHYznhH",
        "outputId": "00d40abf-a2f8-4968-dc95-5a7bed178b7d"
      },
      "execution_count": 106,
      "outputs": [
        {
          "output_type": "execute_result",
          "data": {
            "text/plain": [
              "[<__main__.Linear at 0x785fde206750>,\n",
              " <__main__.BatchNorm1d at 0x785fde1125a0>,\n",
              " <__main__.LeakyRelu at 0x785fde4d2930>,\n",
              " <__main__.Linear at 0x785fde110fb0>,\n",
              " <__main__.BatchNorm1d at 0x785fde0ff350>,\n",
              " <__main__.LeakyRelu at 0x785fe146f620>,\n",
              " <__main__.Linear at 0x785fde0fe2a0>,\n",
              " <__main__.Sigmoid at 0x785fe1207680>]"
            ]
          },
          "metadata": {},
          "execution_count": 106
        }
      ]
    },
    {
      "cell_type": "code",
      "source": [
        "def learning_rate(iteration:int, total_iterations:int, lr=0.01, decay_after=0.8, decay_amount=0.1):\n",
        "    return (lr * decay_amount) if iteration > (decay_after * total_iterations) else lr\n",
        "\n",
        "def prepare_batch(X, Y, batch_size):\n",
        "    idx = torch.randperm(X.shape[0])[:batch_size]\n",
        "    return X[idx], Y[idx]\n",
        "\n",
        "def train(model, X, Y, lr = 0.01, batch_size=24, num_iterations = 2500):\n",
        "\n",
        "    for layer in model.layers:\n",
        "        layer.training = True\n",
        "\n",
        "    losses = []\n",
        "    loss = torch.nn.BCELoss()\n",
        "\n",
        "    decay_after = 0.8 # decay after decay_after% iterations are done\n",
        "\n",
        "    for i in range(0, num_iterations):\n",
        "\n",
        "        # Batch data preparation\n",
        "        batch_x, batch_y = prepare_batch(X, Y, batch_size)\n",
        "\n",
        "        # Forward propagation:\n",
        "        batch_y_pred = model(batch_x)\n",
        "        lossi = loss(batch_y_pred, batch_y)\n",
        "\n",
        "        # backward pass\n",
        "        for p in model.parameters():\n",
        "            p.grad = None\n",
        "        lossi.backward()\n",
        "\n",
        "        # update: simple SGD\n",
        "        for p in model.parameters():\n",
        "            p.data += -learning_rate(i, num_iterations, lr, decay_after) * p.grad\n",
        "\n",
        "        if (i % 100 == 0) or (i == num_iterations - 1):\n",
        "            print(f\"Iteration {i+1} | Loss: {lossi.item()}\")\n",
        "\n",
        "        losses.append(lossi.item())\n",
        "\n",
        "    return losses\n",
        "\n",
        "losses = train(model, train_x_orig, train_y)\n",
        "plt.plot(torch.tensor(losses))"
      ],
      "metadata": {
        "colab": {
          "base_uri": "https://localhost:8080/",
          "height": 912
        },
        "id": "hI0Yg0T9ke0g",
        "outputId": "ffd9414d-a228-4fa1-a43a-b8bb4bdf5e84"
      },
      "execution_count": 128,
      "outputs": [
        {
          "output_type": "stream",
          "name": "stdout",
          "text": [
            "Iteration 1 | Loss: 0.6882053017616272\n",
            "Iteration 101 | Loss: 0.5685110688209534\n",
            "Iteration 201 | Loss: 0.444117933511734\n",
            "Iteration 301 | Loss: 0.3890807628631592\n",
            "Iteration 401 | Loss: 0.30075883865356445\n",
            "Iteration 501 | Loss: 0.19921022653579712\n",
            "Iteration 601 | Loss: 0.1799606829881668\n",
            "Iteration 701 | Loss: 0.15258269011974335\n",
            "Iteration 801 | Loss: 0.11645931750535965\n",
            "Iteration 901 | Loss: 0.28676024079322815\n",
            "Iteration 1001 | Loss: 0.05906069278717041\n",
            "Iteration 1101 | Loss: 0.06591730564832687\n",
            "Iteration 1201 | Loss: 0.09698966890573502\n",
            "Iteration 1301 | Loss: 0.034349896013736725\n",
            "Iteration 1401 | Loss: 0.02531127631664276\n",
            "Iteration 1501 | Loss: 0.024228518828749657\n",
            "Iteration 1601 | Loss: 0.02816805988550186\n",
            "Iteration 1701 | Loss: 0.0226981770247221\n",
            "Iteration 1801 | Loss: 0.03277439624071121\n",
            "Iteration 1901 | Loss: 0.04975917562842369\n",
            "Iteration 2001 | Loss: 0.018599579110741615\n",
            "Iteration 2101 | Loss: 0.013865974731743336\n",
            "Iteration 2201 | Loss: 0.01355396956205368\n",
            "Iteration 2301 | Loss: 0.038146961480379105\n",
            "Iteration 2401 | Loss: 0.021961187943816185\n",
            "Iteration 2500 | Loss: 0.01631401665508747\n"
          ]
        },
        {
          "output_type": "execute_result",
          "data": {
            "text/plain": [
              "[<matplotlib.lines.Line2D at 0x785fdd81f290>]"
            ]
          },
          "metadata": {},
          "execution_count": 128
        },
        {
          "output_type": "display_data",
          "data": {
            "text/plain": [
              "<Figure size 640x480 with 1 Axes>"
            ],
            "image/png": "[encoded data removed]"
          },
          "metadata": {}
        }
      ]
    },
    {
      "cell_type": "code",
      "source": [
        "predictions_train = model.predict(train_x_orig)\n",
        "train_accuracy = Model.accuracy(predictions_train, train_y)\n",
        "\n",
        "predictions_test = model.predict(test_x_orig)\n",
        "test_accuracy = Model.accuracy(predictions_test, test_y)\n",
        "\n",
        "print(f\"train accuracy: {train_accuracy}\")\n",
        "print(f\"test accuracy: {test_accuracy}\")"
      ],
      "metadata": {
        "colab": {
          "base_uri": "https://localhost:8080/"
        },
        "id": "Uf5E59SjyIO-",
        "outputId": "5cf86192-b749-42c2-a377-53d3511f8fd6"
      },
      "execution_count": 129,
      "outputs": [
        {
          "output_type": "stream",
          "name": "stdout",
          "text": [
            "train accuracy: 1.0\n",
            "test accuracy: 0.7200000286102295\n"
          ]
        }
      ]
    },
    {
      "cell_type": "code",
      "source": [
        "Model.confustion_matrix(predictions_test, test_y)"
      ],
      "metadata": {
        "colab": {
          "base_uri": "https://localhost:8080/",
          "height": 485
        },
        "id": "KAe-_2hN4nUx",
        "outputId": "ae672df5-8585-42bc-d300-665ff0140f85"
      },
      "execution_count": 130,
      "outputs": [
        {
          "output_type": "stream",
          "name": "stdout",
          "text": [
            "[[12  5]\n",
            " [ 9 24]]\n"
          ]
        },
        {
          "output_type": "display_data",
          "data": {
            "text/plain": [
              "<Figure size 640x480 with 2 Axes>"
            ],
            "image/png": "[encoded data removed]"
          },
          "metadata": {}
        }
      ]
    }
  ]
}